{
  "nbformat": 4,
  "nbformat_minor": 0,
  "metadata": {
    "colab": {
      "name": "IMS.ipynb",
      "provenance": [],
      "collapsed_sections": [],
      "toc_visible": true,
      "include_colab_link": true
    },
    "kernelspec": {
      "name": "python3",
      "display_name": "Python 3"
    },
    "language_info": {
      "name": "python"
    }
  },
  "cells": [
    {
      "cell_type": "markdown",
      "metadata": {
        "id": "view-in-github",
        "colab_type": "text"
      },
      "source": [
        "<a href=\"https://colab.research.google.com/github/DaminiRaut/Skill-India-AI-ML-Scholarship/blob/main/IMS.ipynb\" target=\"_parent\"><img src=\"https://colab.research.google.com/assets/colab-badge.svg\" alt=\"Open In Colab\"/></a>"
      ]
    },
    {
      "cell_type": "code",
      "metadata": {
        "id": "dgsfAuSP7ZAY"
      },
      "source": [
        "record = {11602561:{\"name\":\"chocolate Cake\",\"price\":300,\"Quantity\":50,\"category\":\"cake\"},\n",
        "          11602562:{\"name\":\"Blackforest Cake\",\"price\":300,\"Quantity\":50,\"category\":\"cake\"},\n",
        "          11602563:{\"name\":\"pineapple Cake\",\"price\":300,\"Quantity\":50,\"category\":\"cake\"},\n",
        "          11602563:{\"name\":\"Strobery Cake\",\"price\":300,\"Quantity\":50,\"category\":\"cake\"},\n",
        "          11602565:{\"name\":\"Dairy Milk\",\"price\":30,\"Quantity\":50,\"category\":\"choclate\"},\n",
        "          11602566:{\"name\":\"dark chocolate\",\"price\":100,\"Quantity\":50,\"category\":\"choclate\"},\n",
        "          11602567:{\"name\":\"galexy\",\"price\":200,\"Quantity\":60,\"category\":\"choclate\"},\n",
        "          11602568:{\"name\":\"nestle\",\"price\":400,\"Quantity\":10,\"category\":\"catbary\"},\n",
        "          11602569:{\"name\":\"dairy Rich\",\"price\":500,\"Quantity\":30,\"category\":\"chocolate\"},\n",
        "          11602570:{\"name\":\"nutties\",\"price\":40,\"Quantity\":20,\"category\":\"catbary\"},\n",
        "          11602571:{\"name\":\"Amul sugar free chocolate\",\"price\":300,\"Quantity\":50,\"category\":\"chocolate\"},\n",
        "          11602572:{\"name\":\"Horlicks\",\"price\":150,\"Quantity\":500,\"category\":\"chocolate powder\"},\n",
        "          11602573:{\"name\":\"Borvita\",\"price\":50,\"Quantity\":550,\"category\":\"chocolate powder\"},\n",
        "          11602574:{\"name\":\"Fuse\",\"price\":40,\"Quantity\":590,\"category\":\"choclate\"},\n",
        "          11602575:{\"name\":\"Milk bar\",\"price\":60,\"Quantity\":540,\"category\":\"chocolate\"},\n",
        "          11602576:{\"name\":\"Snickers\",\"price\":350,\"Quantity\":750,\"category\":\"chocolate\"},\n",
        "          11602577:{\"name\":\"5star\",\"price\":10,\"Quantity\":20,\"category\":\"catbary\"},\n",
        "          11602578:{\"name\":\"happy happy\",\"price\":10,\"Quantity\":10,\"category\":\"biscit\"},\n",
        "          11602579:{\"name\":\"Perk\",\"price\":30,\"Quantity\":5,\"category\":\"catbary\"},\n",
        "          11602580:{\"name\":\"Choco Bar\",\"price\":100,\"Quantity\":57,\"category\":\"icecream\"},\n",
        "          11602581:{\"name\":\"Borone\",\"price\":50,\"Quantity\":10,\"category\":\"catbaty\"},\n",
        "          11602582:{\"name\":\"coco\",\"price\":30,\"Quantity\":530,\"category\":\"chocolate power\"},\n",
        "          11602583:{\"name\":\"Hide&seek\",\"price\":310,\"Quantity\":501,\"category\":\"catbary\"},\n",
        "          11602584:{\"name\":\"mix frute Cake\",\"price\":350,\"Quantity\":530,\"category\":\"cake\"},\n",
        "          11602585:{\"name\":\"chocolate suger free Cake\",\"price\":500,\"Quantity\":650,\"category\":\"cake\"},\n",
        "          11602586:{\"name\":\"chocolate pan Cake\",\"price\":300,\"Quantity\":850,\"category\":\"cake\"},\n",
        "          11602587:{\"name\":\"Hobby Chocolate\",\"price\":30,\"Quantity\":580,\"category\":\"cake\"},\n",
        "          11602588:{\"name\":\"Tiger Chocolet\",\"price\":5,\"Quantity\":500,\"category\":\"chocolate\"},\n",
        "          11602589:{\"name\":\"parleg\",\"price\":10,\"Quantity\":950,\"category\":\"biscit\"},\n",
        "          11602590:{\"name\":\"Marathon\",\"price\":30,\"Quantity\":750,\"category\":\"catbary\"}\n",
        "        \n",
        "          \n",
        "       }\n",
        "     "
      ],
      "execution_count": null,
      "outputs": []
    },
    {
      "cell_type": "code",
      "metadata": {
        "id": "4wCv2N507Y_P",
        "colab": {
          "base_uri": "https://localhost:8080/"
        },
        "outputId": "820ede66-275d-41d6-f3d5-2e2e1b4b01cf"
      },
      "source": [
        "record\n"
      ],
      "execution_count": null,
      "outputs": [
        {
          "output_type": "execute_result",
          "data": {
            "text/plain": [
              "{11602561: {'Quantity': 50,\n",
              "  'category': 'cake',\n",
              "  'name': 'chocolate Cake',\n",
              "  'price': 300},\n",
              " 11602562: {'Quantity': 50,\n",
              "  'category': 'cake',\n",
              "  'name': 'Blackforest Cake',\n",
              "  'price': 300},\n",
              " 11602563: {'Quantity': 50,\n",
              "  'category': 'cake',\n",
              "  'name': 'Strobery Cake',\n",
              "  'price': 300},\n",
              " 11602565: {'Quantity': 50,\n",
              "  'category': 'choclate',\n",
              "  'name': 'Dairy Milk',\n",
              "  'price': 30},\n",
              " 11602566: {'Quantity': 50,\n",
              "  'category': 'choclate',\n",
              "  'name': 'dark chocolate',\n",
              "  'price': 100},\n",
              " 11602567: {'Quantity': 60,\n",
              "  'category': 'choclate',\n",
              "  'name': 'galexy',\n",
              "  'price': 200},\n",
              " 11602568: {'Quantity': 10,\n",
              "  'category': 'catbary',\n",
              "  'name': 'nestle',\n",
              "  'price': 400},\n",
              " 11602569: {'Quantity': 30,\n",
              "  'category': 'chocolate',\n",
              "  'name': 'dairy Rich',\n",
              "  'price': 500},\n",
              " 11602570: {'Quantity': 20,\n",
              "  'category': 'catbary',\n",
              "  'name': 'nutties',\n",
              "  'price': 40},\n",
              " 11602571: {'Quantity': 50,\n",
              "  'category': 'chocolate',\n",
              "  'name': 'Amul sugar free chocolate',\n",
              "  'price': 300},\n",
              " 11602572: {'Quantity': 500,\n",
              "  'category': 'chocolate powder',\n",
              "  'name': 'Horlicks',\n",
              "  'price': 150},\n",
              " 11602573: {'Quantity': 550,\n",
              "  'category': 'chocolate powder',\n",
              "  'name': 'Borvita',\n",
              "  'price': 50},\n",
              " 11602574: {'Quantity': 590,\n",
              "  'category': 'choclate',\n",
              "  'name': 'Fuse',\n",
              "  'price': 40},\n",
              " 11602575: {'Quantity': 540,\n",
              "  'category': 'chocolate',\n",
              "  'name': 'Milk bar',\n",
              "  'price': 60},\n",
              " 11602576: {'Quantity': 750,\n",
              "  'category': 'chocolate',\n",
              "  'name': 'Snickers',\n",
              "  'price': 350},\n",
              " 11602577: {'Quantity': 20,\n",
              "  'category': 'catbary',\n",
              "  'name': '5star',\n",
              "  'price': 10},\n",
              " 11602578: {'Quantity': 10,\n",
              "  'category': 'biscit',\n",
              "  'name': 'happy happy',\n",
              "  'price': 10},\n",
              " 11602579: {'Quantity': 5, 'category': 'catbary', 'name': 'Perk', 'price': 30},\n",
              " 11602580: {'Quantity': 57,\n",
              "  'category': 'icecream',\n",
              "  'name': 'Choco Bar',\n",
              "  'price': 100},\n",
              " 11602581: {'Quantity': 10,\n",
              "  'category': 'catbaty',\n",
              "  'name': 'Borone',\n",
              "  'price': 50},\n",
              " 11602582: {'Quantity': 530,\n",
              "  'category': 'chocolate power',\n",
              "  'name': 'coco',\n",
              "  'price': 30},\n",
              " 11602583: {'Quantity': 501,\n",
              "  'category': 'catbary',\n",
              "  'name': 'Hide&seek',\n",
              "  'price': 310},\n",
              " 11602584: {'Quantity': 530,\n",
              "  'category': 'cake',\n",
              "  'name': 'mix frute Cake',\n",
              "  'price': 350},\n",
              " 11602585: {'Quantity': 650,\n",
              "  'category': 'cake',\n",
              "  'name': 'chocolate suger free Cake',\n",
              "  'price': 500},\n",
              " 11602586: {'Quantity': 850,\n",
              "  'category': 'cake',\n",
              "  'name': 'chocolate pan Cake',\n",
              "  'price': 300},\n",
              " 11602587: {'Quantity': 580,\n",
              "  'category': 'cake',\n",
              "  'name': 'Hobby Chocolate',\n",
              "  'price': 30},\n",
              " 11602588: {'Quantity': 500,\n",
              "  'category': 'chocolate',\n",
              "  'name': 'Tiger Chocolet',\n",
              "  'price': 5},\n",
              " 11602589: {'Quantity': 950,\n",
              "  'category': 'biscit',\n",
              "  'name': 'parleg',\n",
              "  'price': 10},\n",
              " 11602590: {'Quantity': 750,\n",
              "  'category': 'catbary',\n",
              "  'name': 'Marathon',\n",
              "  'price': 30}}"
            ]
          },
          "metadata": {},
          "execution_count": 27
        }
      ]
    },
    {
      "cell_type": "code",
      "metadata": {
        "colab": {
          "base_uri": "https://localhost:8080/"
        },
        "id": "OgqGs7T8637v",
        "outputId": "89df1099-d0de-49a4-f37d-d246223ea341"
      },
      "source": [
        "reg =11602586\n",
        "print(record[reg]['name'])\n",
        "print(record[reg]['price'])\n",
        "print(record[reg]['Quantity'])\n",
        "print(record[reg]['category'])"
      ],
      "execution_count": null,
      "outputs": [
        {
          "output_type": "stream",
          "name": "stdout",
          "text": [
            "chocolate pan Cake\n",
            "300\n",
            "850\n",
            "cake\n"
          ]
        }
      ]
    },
    {
      "cell_type": "code",
      "metadata": {
        "id": "K12unow96Bn-"
      },
      "source": [
        "import json\n"
      ],
      "execution_count": null,
      "outputs": []
    },
    {
      "cell_type": "code",
      "metadata": {
        "id": "7HDh2idj1gqd"
      },
      "source": [
        " js = json.dumps(record)\n"
      ],
      "execution_count": null,
      "outputs": []
    },
    {
      "cell_type": "code",
      "metadata": {
        "colab": {
          "base_uri": "https://localhost:8080/",
          "height": 171
        },
        "id": "vsCVik0A6Q7i",
        "outputId": "ac3132e7-718c-4e53-9b56-c6271cb9fda0"
      },
      "source": [
        "js"
      ],
      "execution_count": null,
      "outputs": [
        {
          "output_type": "execute_result",
          "data": {
            "application/vnd.google.colaboratory.intrinsic+json": {
              "type": "string"
            },
            "text/plain": [
              "'{\"11602561\": {\"name\": \"chocolate Cake\", \"price\": 300, \"Quantity\": 50, \"category\": \"cake\"}, \"11602562\": {\"name\": \"Blackforest Cake\", \"price\": 300, \"Quantity\": 50, \"category\": \"cake\"}, \"11602563\": {\"name\": \"Strobery Cake\", \"price\": 300, \"Quantity\": 50, \"category\": \"cake\"}, \"11602565\": {\"name\": \"Dairy Milk\", \"price\": 30, \"Quantity\": 50, \"category\": \"choclate\"}, \"11602566\": {\"name\": \"dark chocolate\", \"price\": 100, \"Quantity\": 50, \"category\": \"choclate\"}, \"11602567\": {\"name\": \"galexy\", \"price\": 200, \"Quantity\": 60, \"category\": \"choclate\"}, \"11602568\": {\"name\": \"nestle\", \"price\": 400, \"Quantity\": 10, \"category\": \"catbary\"}, \"11602569\": {\"name\": \"dairy Rich\", \"price\": 500, \"Quantity\": 30, \"category\": \"chocolate\"}, \"11602570\": {\"name\": \"nutties\", \"price\": 40, \"Quantity\": 20, \"category\": \"catbary\"}, \"11602571\": {\"name\": \"Amul sugar free chocolate\", \"price\": 300, \"Quantity\": 50, \"category\": \"chocolate\"}, \"11602572\": {\"name\": \"Horlicks\", \"price\": 150, \"Quantity\": 500, \"category\": \"chocolate powder\"}, \"11602573\": {\"name\": \"Borvita\", \"price\": 50, \"Quantity\": 550, \"category\": \"chocolate powder\"}, \"11602574\": {\"name\": \"Fuse\", \"price\": 40, \"Quantity\": 590, \"category\": \"choclate\"}, \"11602575\": {\"name\": \"Milk bar\", \"price\": 60, \"Quantity\": 540, \"category\": \"chocolate\"}, \"11602576\": {\"name\": \"Snickers\", \"price\": 350, \"Quantity\": 750, \"category\": \"chocolate\"}, \"11602577\": {\"name\": \"5star\", \"price\": 10, \"Quantity\": 20, \"category\": \"catbary\"}, \"11602578\": {\"name\": \"happy happy\", \"price\": 10, \"Quantity\": 10, \"category\": \"biscit\"}, \"11602579\": {\"name\": \"Perk\", \"price\": 30, \"Quantity\": 5, \"category\": \"catbary\"}, \"11602580\": {\"name\": \"Choco Bar\", \"price\": 100, \"Quantity\": 57, \"category\": \"icecream\"}, \"11602581\": {\"name\": \"Borone\", \"price\": 50, \"Quantity\": 10, \"category\": \"catbaty\"}, \"11602582\": {\"name\": \"coco\", \"price\": 30, \"Quantity\": 530, \"category\": \"chocolate power\"}, \"11602583\": {\"name\": \"Hide&seek\", \"price\": 310, \"Quantity\": 501, \"category\": \"catbary\"}, \"11602584\": {\"name\": \"mix frute Cake\", \"price\": 350, \"Quantity\": 530, \"category\": \"cake\"}, \"11602585\": {\"name\": \"chocolate suger free Cake\", \"price\": 500, \"Quantity\": 650, \"category\": \"cake\"}, \"11602586\": {\"name\": \"chocolate pan Cake\", \"price\": 300, \"Quantity\": 850, \"category\": \"cake\"}, \"11602587\": {\"name\": \"Hobby Chocolate\", \"price\": 30, \"Quantity\": 580, \"category\": \"cake\"}, \"11602588\": {\"name\": \"Tiger Chocolet\", \"price\": 5, \"Quantity\": 500, \"category\": \"chocolate\"}, \"11602589\": {\"name\": \"parleg\", \"price\": 10, \"Quantity\": 950, \"category\": \"biscit\"}, \"11602590\": {\"name\": \"Marathon\", \"price\": 30, \"Quantity\": 750, \"category\": \"catbary\"}}'"
            ]
          },
          "metadata": {},
          "execution_count": 30
        }
      ]
    },
    {
      "cell_type": "code",
      "metadata": {
        "colab": {
          "base_uri": "https://localhost:8080/"
        },
        "id": "m_tmBSkR6q5C",
        "outputId": "df66965f-f3f2-4b9b-a780-2c86f028fa84"
      },
      "source": [
        "record"
      ],
      "execution_count": null,
      "outputs": [
        {
          "output_type": "execute_result",
          "data": {
            "text/plain": [
              "{11602561: {'Quantity': 50,\n",
              "  'category': 'cake',\n",
              "  'name': 'chocolate Cake',\n",
              "  'price': 300},\n",
              " 11602562: {'Quantity': 50,\n",
              "  'category': 'cake',\n",
              "  'name': 'Blackforest Cake',\n",
              "  'price': 300},\n",
              " 11602563: {'Quantity': 50,\n",
              "  'category': 'cake',\n",
              "  'name': 'Strobery Cake',\n",
              "  'price': 300},\n",
              " 11602565: {'Quantity': 50,\n",
              "  'category': 'choclate',\n",
              "  'name': 'Dairy Milk',\n",
              "  'price': 30},\n",
              " 11602566: {'Quantity': 50,\n",
              "  'category': 'choclate',\n",
              "  'name': 'dark chocolate',\n",
              "  'price': 100},\n",
              " 11602567: {'Quantity': 60,\n",
              "  'category': 'choclate',\n",
              "  'name': 'galexy',\n",
              "  'price': 200},\n",
              " 11602568: {'Quantity': 10,\n",
              "  'category': 'catbary',\n",
              "  'name': 'nestle',\n",
              "  'price': 400},\n",
              " 11602569: {'Quantity': 30,\n",
              "  'category': 'chocolate',\n",
              "  'name': 'dairy Rich',\n",
              "  'price': 500},\n",
              " 11602570: {'Quantity': 20,\n",
              "  'category': 'catbary',\n",
              "  'name': 'nutties',\n",
              "  'price': 40},\n",
              " 11602571: {'Quantity': 50,\n",
              "  'category': 'chocolate',\n",
              "  'name': 'Amul sugar free chocolate',\n",
              "  'price': 300},\n",
              " 11602572: {'Quantity': 500,\n",
              "  'category': 'chocolate powder',\n",
              "  'name': 'Horlicks',\n",
              "  'price': 150},\n",
              " 11602573: {'Quantity': 550,\n",
              "  'category': 'chocolate powder',\n",
              "  'name': 'Borvita',\n",
              "  'price': 50},\n",
              " 11602574: {'Quantity': 590,\n",
              "  'category': 'choclate',\n",
              "  'name': 'Fuse',\n",
              "  'price': 40},\n",
              " 11602575: {'Quantity': 540,\n",
              "  'category': 'chocolate',\n",
              "  'name': 'Milk bar',\n",
              "  'price': 60},\n",
              " 11602576: {'Quantity': 750,\n",
              "  'category': 'chocolate',\n",
              "  'name': 'Snickers',\n",
              "  'price': 350},\n",
              " 11602577: {'Quantity': 20,\n",
              "  'category': 'catbary',\n",
              "  'name': '5star',\n",
              "  'price': 10},\n",
              " 11602578: {'Quantity': 10,\n",
              "  'category': 'biscit',\n",
              "  'name': 'happy happy',\n",
              "  'price': 10},\n",
              " 11602579: {'Quantity': 5, 'category': 'catbary', 'name': 'Perk', 'price': 30},\n",
              " 11602580: {'Quantity': 57,\n",
              "  'category': 'icecream',\n",
              "  'name': 'Choco Bar',\n",
              "  'price': 100},\n",
              " 11602581: {'Quantity': 10,\n",
              "  'category': 'catbaty',\n",
              "  'name': 'Borone',\n",
              "  'price': 50},\n",
              " 11602582: {'Quantity': 530,\n",
              "  'category': 'chocolate power',\n",
              "  'name': 'coco',\n",
              "  'price': 30},\n",
              " 11602583: {'Quantity': 501,\n",
              "  'category': 'catbary',\n",
              "  'name': 'Hide&seek',\n",
              "  'price': 310},\n",
              " 11602584: {'Quantity': 530,\n",
              "  'category': 'cake',\n",
              "  'name': 'mix frute Cake',\n",
              "  'price': 350},\n",
              " 11602585: {'Quantity': 650,\n",
              "  'category': 'cake',\n",
              "  'name': 'chocolate suger free Cake',\n",
              "  'price': 500},\n",
              " 11602586: {'Quantity': 850,\n",
              "  'category': 'cake',\n",
              "  'name': 'chocolate pan Cake',\n",
              "  'price': 300},\n",
              " 11602587: {'Quantity': 580,\n",
              "  'category': 'cake',\n",
              "  'name': 'Hobby Chocolate',\n",
              "  'price': 30},\n",
              " 11602588: {'Quantity': 500,\n",
              "  'category': 'chocolate',\n",
              "  'name': 'Tiger Chocolet',\n",
              "  'price': 5},\n",
              " 11602589: {'Quantity': 950,\n",
              "  'category': 'biscit',\n",
              "  'name': 'parleg',\n",
              "  'price': 10},\n",
              " 11602590: {'Quantity': 750,\n",
              "  'category': 'catbary',\n",
              "  'name': 'Marathon',\n",
              "  'price': 30}}"
            ]
          },
          "metadata": {},
          "execution_count": 31
        }
      ]
    },
    {
      "cell_type": "code",
      "metadata": {
        "colab": {
          "base_uri": "https://localhost:8080/"
        },
        "id": "hpfgvjIa6rof",
        "outputId": "f7e679c3-61b1-40c4-b711-6df9cf48f610"
      },
      "source": [
        "type(js)"
      ],
      "execution_count": null,
      "outputs": [
        {
          "output_type": "execute_result",
          "data": {
            "text/plain": [
              "str"
            ]
          },
          "metadata": {},
          "execution_count": 33
        }
      ]
    },
    {
      "cell_type": "code",
      "metadata": {
        "id": "3DsFkcWl7piK"
      },
      "source": [
        "re"
      ],
      "execution_count": null,
      "outputs": []
    },
    {
      "cell_type": "markdown",
      "metadata": {
        "id": "FIrE6c0f80eK"
      },
      "source": [
        "READ DATA FROM JSON"
      ]
    },
    {
      "cell_type": "code",
      "metadata": {
        "id": "s1IB91FW7pmB"
      },
      "source": [
        "fd = open(\"record.json\",'w')\n",
        "fd.write(js)\n",
        "fd.close()\n"
      ],
      "execution_count": null,
      "outputs": []
    },
    {
      "cell_type": "code",
      "metadata": {
        "colab": {
          "base_uri": "https://localhost:8080/"
        },
        "id": "O4OMN2KT7ppd",
        "outputId": "94d45d77-0260-41a3-d77f-ad56b484659f"
      },
      "source": [
        "record"
      ],
      "execution_count": null,
      "outputs": [
        {
          "output_type": "execute_result",
          "data": {
            "text/plain": [
              "{11602561: {'Quantity': 50,\n",
              "  'category': 'cake',\n",
              "  'name': 'chocolate Cake',\n",
              "  'price': 300},\n",
              " 11602562: {'Quantity': 50,\n",
              "  'category': 'cake',\n",
              "  'name': 'Blackforest Cake',\n",
              "  'price': 300},\n",
              " 11602563: {'Quantity': 50,\n",
              "  'category': 'cake',\n",
              "  'name': 'Strobery Cake',\n",
              "  'price': 300},\n",
              " 11602565: {'Quantity': 50,\n",
              "  'category': 'choclate',\n",
              "  'name': 'Dairy Milk',\n",
              "  'price': 30},\n",
              " 11602566: {'Quantity': 50,\n",
              "  'category': 'choclate',\n",
              "  'name': 'dark chocolate',\n",
              "  'price': 100},\n",
              " 11602567: {'Quantity': 60,\n",
              "  'category': 'choclate',\n",
              "  'name': 'galexy',\n",
              "  'price': 200},\n",
              " 11602568: {'Quantity': 10,\n",
              "  'category': 'catbary',\n",
              "  'name': 'nestle',\n",
              "  'price': 400},\n",
              " 11602569: {'Quantity': 30,\n",
              "  'category': 'chocolate',\n",
              "  'name': 'dairy Rich',\n",
              "  'price': 500},\n",
              " 11602570: {'Quantity': 20,\n",
              "  'category': 'catbary',\n",
              "  'name': 'nutties',\n",
              "  'price': 40},\n",
              " 11602571: {'Quantity': 50,\n",
              "  'category': 'chocolate',\n",
              "  'name': 'Amul sugar free chocolate',\n",
              "  'price': 300},\n",
              " 11602572: {'Quantity': 500,\n",
              "  'category': 'chocolate powder',\n",
              "  'name': 'Horlicks',\n",
              "  'price': 150},\n",
              " 11602573: {'Quantity': 550,\n",
              "  'category': 'chocolate powder',\n",
              "  'name': 'Borvita',\n",
              "  'price': 50},\n",
              " 11602574: {'Quantity': 590,\n",
              "  'category': 'choclate',\n",
              "  'name': 'Fuse',\n",
              "  'price': 40},\n",
              " 11602575: {'Quantity': 540,\n",
              "  'category': 'chocolate',\n",
              "  'name': 'Milk bar',\n",
              "  'price': 60},\n",
              " 11602576: {'Quantity': 750,\n",
              "  'category': 'chocolate',\n",
              "  'name': 'Snickers',\n",
              "  'price': 350},\n",
              " 11602577: {'Quantity': 20,\n",
              "  'category': 'catbary',\n",
              "  'name': '5star',\n",
              "  'price': 10},\n",
              " 11602578: {'Quantity': 10,\n",
              "  'category': 'biscit',\n",
              "  'name': 'happy happy',\n",
              "  'price': 10},\n",
              " 11602579: {'Quantity': 5, 'category': 'catbary', 'name': 'Perk', 'price': 30},\n",
              " 11602580: {'Quantity': 57,\n",
              "  'category': 'icecream',\n",
              "  'name': 'Choco Bar',\n",
              "  'price': 100},\n",
              " 11602581: {'Quantity': 10,\n",
              "  'category': 'catbaty',\n",
              "  'name': 'Borone',\n",
              "  'price': 50},\n",
              " 11602582: {'Quantity': 530,\n",
              "  'category': 'chocolate power',\n",
              "  'name': 'coco',\n",
              "  'price': 30},\n",
              " 11602583: {'Quantity': 501,\n",
              "  'category': 'catbary',\n",
              "  'name': 'Hide&seek',\n",
              "  'price': 310},\n",
              " 11602584: {'Quantity': 530,\n",
              "  'category': 'cake',\n",
              "  'name': 'mix frute Cake',\n",
              "  'price': 350},\n",
              " 11602585: {'Quantity': 650,\n",
              "  'category': 'cake',\n",
              "  'name': 'chocolate suger free Cake',\n",
              "  'price': 500},\n",
              " 11602586: {'Quantity': 850,\n",
              "  'category': 'cake',\n",
              "  'name': 'chocolate pan Cake',\n",
              "  'price': 300},\n",
              " 11602587: {'Quantity': 580,\n",
              "  'category': 'cake',\n",
              "  'name': 'Hobby Chocolate',\n",
              "  'price': 30},\n",
              " 11602588: {'Quantity': 500,\n",
              "  'category': 'chocolate',\n",
              "  'name': 'Tiger Chocolet',\n",
              "  'price': 5},\n",
              " 11602589: {'Quantity': 950,\n",
              "  'category': 'biscit',\n",
              "  'name': 'parleg',\n",
              "  'price': 10},\n",
              " 11602590: {'Quantity': 750,\n",
              "  'category': 'catbary',\n",
              "  'name': 'Marathon',\n",
              "  'price': 30}}"
            ]
          },
          "metadata": {},
          "execution_count": 35
        }
      ]
    },
    {
      "cell_type": "code",
      "metadata": {
        "id": "SWLl7b8t7prs"
      },
      "source": [
        "fd = open(\"record.json\",'r')\n",
        "r = fd.read()\n",
        "fd.close()\n",
        "record = json.loads(r)"
      ],
      "execution_count": null,
      "outputs": []
    },
    {
      "cell_type": "code",
      "metadata": {
        "colab": {
          "base_uri": "https://localhost:8080/"
        },
        "id": "o-FUtgKx7ps7",
        "outputId": "4476d1f6-52bc-486f-9876-fe9154dffa57"
      },
      "source": [
        "record"
      ],
      "execution_count": null,
      "outputs": [
        {
          "output_type": "execute_result",
          "data": {
            "text/plain": [
              "{'11602561': {'Quantity': 50,\n",
              "  'category': 'cake',\n",
              "  'name': 'chocolate Cake',\n",
              "  'price': 300},\n",
              " '11602562': {'Quantity': 50,\n",
              "  'category': 'cake',\n",
              "  'name': 'Blackforest Cake',\n",
              "  'price': 300},\n",
              " '11602563': {'Quantity': 50,\n",
              "  'category': 'cake',\n",
              "  'name': 'Strobery Cake',\n",
              "  'price': 300},\n",
              " '11602565': {'Quantity': 50,\n",
              "  'category': 'choclate',\n",
              "  'name': 'Dairy Milk',\n",
              "  'price': 30},\n",
              " '11602566': {'Quantity': 50,\n",
              "  'category': 'choclate',\n",
              "  'name': 'dark chocolate',\n",
              "  'price': 100},\n",
              " '11602567': {'Quantity': 60,\n",
              "  'category': 'choclate',\n",
              "  'name': 'galexy',\n",
              "  'price': 200},\n",
              " '11602568': {'Quantity': 10,\n",
              "  'category': 'catbary',\n",
              "  'name': 'nestle',\n",
              "  'price': 400},\n",
              " '11602569': {'Quantity': 30,\n",
              "  'category': 'chocolate',\n",
              "  'name': 'dairy Rich',\n",
              "  'price': 500},\n",
              " '11602570': {'Quantity': 20,\n",
              "  'category': 'catbary',\n",
              "  'name': 'nutties',\n",
              "  'price': 40},\n",
              " '11602571': {'Quantity': 50,\n",
              "  'category': 'chocolate',\n",
              "  'name': 'Amul sugar free chocolate',\n",
              "  'price': 300},\n",
              " '11602572': {'Quantity': 500,\n",
              "  'category': 'chocolate powder',\n",
              "  'name': 'Horlicks',\n",
              "  'price': 150},\n",
              " '11602573': {'Quantity': 550,\n",
              "  'category': 'chocolate powder',\n",
              "  'name': 'Borvita',\n",
              "  'price': 50},\n",
              " '11602574': {'Quantity': 590,\n",
              "  'category': 'choclate',\n",
              "  'name': 'Fuse',\n",
              "  'price': 40},\n",
              " '11602575': {'Quantity': 540,\n",
              "  'category': 'chocolate',\n",
              "  'name': 'Milk bar',\n",
              "  'price': 60},\n",
              " '11602576': {'Quantity': 750,\n",
              "  'category': 'chocolate',\n",
              "  'name': 'Snickers',\n",
              "  'price': 350},\n",
              " '11602577': {'Quantity': 20,\n",
              "  'category': 'catbary',\n",
              "  'name': '5star',\n",
              "  'price': 10},\n",
              " '11602578': {'Quantity': 10,\n",
              "  'category': 'biscit',\n",
              "  'name': 'happy happy',\n",
              "  'price': 10},\n",
              " '11602579': {'Quantity': 5,\n",
              "  'category': 'catbary',\n",
              "  'name': 'Perk',\n",
              "  'price': 30},\n",
              " '11602580': {'Quantity': 57,\n",
              "  'category': 'icecream',\n",
              "  'name': 'Choco Bar',\n",
              "  'price': 100},\n",
              " '11602581': {'Quantity': 10,\n",
              "  'category': 'catbaty',\n",
              "  'name': 'Borone',\n",
              "  'price': 50},\n",
              " '11602582': {'Quantity': 530,\n",
              "  'category': 'chocolate power',\n",
              "  'name': 'coco',\n",
              "  'price': 30},\n",
              " '11602583': {'Quantity': 501,\n",
              "  'category': 'catbary',\n",
              "  'name': 'Hide&seek',\n",
              "  'price': 310},\n",
              " '11602584': {'Quantity': 530,\n",
              "  'category': 'cake',\n",
              "  'name': 'mix frute Cake',\n",
              "  'price': 350},\n",
              " '11602585': {'Quantity': 650,\n",
              "  'category': 'cake',\n",
              "  'name': 'chocolate suger free Cake',\n",
              "  'price': 500},\n",
              " '11602586': {'Quantity': 850,\n",
              "  'category': 'cake',\n",
              "  'name': 'chocolate pan Cake',\n",
              "  'price': 300},\n",
              " '11602587': {'Quantity': 580,\n",
              "  'category': 'cake',\n",
              "  'name': 'Hobby Chocolate',\n",
              "  'price': 30},\n",
              " '11602588': {'Quantity': 500,\n",
              "  'category': 'chocolate',\n",
              "  'name': 'Tiger Chocolet',\n",
              "  'price': 5},\n",
              " '11602589': {'Quantity': 950,\n",
              "  'category': 'biscit',\n",
              "  'name': 'parleg',\n",
              "  'price': 10},\n",
              " '11602590': {'Quantity': 750,\n",
              "  'category': 'catbary',\n",
              "  'name': 'Marathon',\n",
              "  'price': 30}}"
            ]
          },
          "metadata": {},
          "execution_count": 44
        }
      ]
    },
    {
      "cell_type": "code",
      "metadata": {
        "id": "TKqXO-Df7pwe"
      },
      "source": [
        ""
      ],
      "execution_count": null,
      "outputs": []
    },
    {
      "cell_type": "markdown",
      "metadata": {
        "id": "fFiRfB7-BDCr"
      },
      "source": [
        "ADD NEW ITEM INTO INVENTORY"
      ]
    },
    {
      "cell_type": "code",
      "metadata": {
        "colab": {
          "base_uri": "https://localhost:8080/"
        },
        "id": "9oEyDoMIBPQN",
        "outputId": "5eb5666b-6daa-4137-ac86-f85cbfd38b45"
      },
      "source": [
        "prod_id = str(input(\"Enter product id:\"))\n",
        "name = str(input(\"Enter name:\"))\n",
        "price = int(input(\"Enter price:\"))\n",
        "Quantity = int(input(\"Enter Quantity: \"))\n",
        "category = str(input(\"Enter category:\"))\n",
        "record[prod_id] = {'name':name,'price':price,'Quantity':Quantity,'category':category}\n",
        "js = json.dumps(record)\n",
        "fd = open(\"record.json\",'w')\n",
        "fd.write(js)\n",
        "fd.close()"
      ],
      "execution_count": null,
      "outputs": [
        {
          "name": "stdout",
          "output_type": "stream",
          "text": [
            "Enter product id:11602591\n",
            "Enter name:Eclears\n",
            "Enter price:10\n",
            "Enter Quantity: 1000\n",
            "Enter category:chocolate\n"
          ]
        }
      ]
    },
    {
      "cell_type": "code",
      "metadata": {
        "colab": {
          "base_uri": "https://localhost:8080/"
        },
        "id": "XZiboJXvBPRs",
        "outputId": "d3057a9b-ddd8-4036-a50b-eca04c2de3d2"
      },
      "source": [
        "record"
      ],
      "execution_count": null,
      "outputs": [
        {
          "output_type": "execute_result",
          "data": {
            "text/plain": [
              "{'11602561': {'Quantity': 50,\n",
              "  'category': 'cake',\n",
              "  'name': 'chocolate Cake',\n",
              "  'price': 300},\n",
              " '11602562': {'Quantity': 50,\n",
              "  'category': 'cake',\n",
              "  'name': 'Blackforest Cake',\n",
              "  'price': 300},\n",
              " '11602563': {'Quantity': 50,\n",
              "  'category': 'cake',\n",
              "  'name': 'Strobery Cake',\n",
              "  'price': 300},\n",
              " '11602565': {'Quantity': 50,\n",
              "  'category': 'choclate',\n",
              "  'name': 'Dairy Milk',\n",
              "  'price': 30},\n",
              " '11602566': {'Quantity': 50,\n",
              "  'category': 'choclate',\n",
              "  'name': 'dark chocolate',\n",
              "  'price': 100},\n",
              " '11602567': {'Quantity': 60,\n",
              "  'category': 'choclate',\n",
              "  'name': 'galexy',\n",
              "  'price': 200},\n",
              " '11602568': {'Quantity': 10,\n",
              "  'category': 'catbary',\n",
              "  'name': 'nestle',\n",
              "  'price': 400},\n",
              " '11602569': {'Quantity': 30,\n",
              "  'category': 'chocolate',\n",
              "  'name': 'dairy Rich',\n",
              "  'price': 500},\n",
              " '11602570': {'Quantity': 20,\n",
              "  'category': 'catbary',\n",
              "  'name': 'nutties',\n",
              "  'price': 40},\n",
              " '11602571': {'Quantity': 50,\n",
              "  'category': 'chocolate',\n",
              "  'name': 'Amul sugar free chocolate',\n",
              "  'price': 300},\n",
              " '11602572': {'Quantity': 500,\n",
              "  'category': 'chocolate powder',\n",
              "  'name': 'Horlicks',\n",
              "  'price': 150},\n",
              " '11602573': {'Quantity': 550,\n",
              "  'category': 'chocolate powder',\n",
              "  'name': 'Borvita',\n",
              "  'price': 50},\n",
              " '11602574': {'Quantity': 590,\n",
              "  'category': 'choclate',\n",
              "  'name': 'Fuse',\n",
              "  'price': 40},\n",
              " '11602575': {'Quantity': 540,\n",
              "  'category': 'chocolate',\n",
              "  'name': 'Milk bar',\n",
              "  'price': 60},\n",
              " '11602576': {'Quantity': 750,\n",
              "  'category': 'chocolate',\n",
              "  'name': 'Snickers',\n",
              "  'price': 350},\n",
              " '11602577': {'Quantity': 20,\n",
              "  'category': 'catbary',\n",
              "  'name': '5star',\n",
              "  'price': 10},\n",
              " '11602578': {'Quantity': 10,\n",
              "  'category': 'biscit',\n",
              "  'name': 'happy happy',\n",
              "  'price': 10},\n",
              " '11602579': {'Quantity': 5,\n",
              "  'category': 'catbary',\n",
              "  'name': 'Perk',\n",
              "  'price': 30},\n",
              " '11602580': {'Quantity': 57,\n",
              "  'category': 'icecream',\n",
              "  'name': 'Choco Bar',\n",
              "  'price': 100},\n",
              " '11602581': {'Quantity': 10,\n",
              "  'category': 'catbaty',\n",
              "  'name': 'Borone',\n",
              "  'price': 50},\n",
              " '11602582': {'Quantity': 530,\n",
              "  'category': 'chocolate power',\n",
              "  'name': 'coco',\n",
              "  'price': 30},\n",
              " '11602583': {'Quantity': 501,\n",
              "  'category': 'catbary',\n",
              "  'name': 'Hide&seek',\n",
              "  'price': 310},\n",
              " '11602584': {'Quantity': 530,\n",
              "  'category': 'cake',\n",
              "  'name': 'mix frute Cake',\n",
              "  'price': 350},\n",
              " '11602585': {'Quantity': 650,\n",
              "  'category': 'cake',\n",
              "  'name': 'chocolate suger free Cake',\n",
              "  'price': 500},\n",
              " '11602586': {'Quantity': 850,\n",
              "  'category': 'cake',\n",
              "  'name': 'chocolate pan Cake',\n",
              "  'price': 300},\n",
              " '11602587': {'Quantity': 580,\n",
              "  'category': 'cake',\n",
              "  'name': 'Hobby Chocolate',\n",
              "  'price': 30},\n",
              " '11602588': {'Quantity': 500,\n",
              "  'category': 'chocolate',\n",
              "  'name': 'Tiger Chocolet',\n",
              "  'price': 5},\n",
              " '11602589': {'Quantity': 950,\n",
              "  'category': 'biscit',\n",
              "  'name': 'parleg',\n",
              "  'price': 10},\n",
              " '11602590': {'Quantity': 750,\n",
              "  'category': 'catbary',\n",
              "  'name': 'Marathon',\n",
              "  'price': 30},\n",
              " '11602591': {'Quantity': 1000,\n",
              "  'category': 'chocolate',\n",
              "  'name': 'Eclears',\n",
              "  'price': 10}}"
            ]
          },
          "metadata": {},
          "execution_count": 48
        }
      ]
    },
    {
      "cell_type": "code",
      "metadata": {
        "id": "jT8dDWHJF7Zl"
      },
      "source": [
        "del record['11602581']"
      ],
      "execution_count": null,
      "outputs": []
    },
    {
      "cell_type": "code",
      "metadata": {
        "colab": {
          "base_uri": "https://localhost:8080/"
        },
        "id": "m4si8Nw9GFgU",
        "outputId": "050215c9-eeaf-4d57-a622-d2d8c2aa748d"
      },
      "source": [
        "record"
      ],
      "execution_count": null,
      "outputs": [
        {
          "output_type": "execute_result",
          "data": {
            "text/plain": [
              "{'11602561': {'Quantity': 50,\n",
              "  'category': 'cake',\n",
              "  'name': 'chocolate Cake',\n",
              "  'price': 300},\n",
              " '11602562': {'Quantity': 50,\n",
              "  'category': 'cake',\n",
              "  'name': 'Blackforest Cake',\n",
              "  'price': 300},\n",
              " '11602563': {'Quantity': 50,\n",
              "  'category': 'cake',\n",
              "  'name': 'Strobery Cake',\n",
              "  'price': 300},\n",
              " '11602565': {'Quantity': 50,\n",
              "  'category': 'choclate',\n",
              "  'name': 'Dairy Milk',\n",
              "  'price': 30},\n",
              " '11602566': {'Quantity': 50,\n",
              "  'category': 'choclate',\n",
              "  'name': 'dark chocolate',\n",
              "  'price': 100},\n",
              " '11602567': {'Quantity': 60,\n",
              "  'category': 'choclate',\n",
              "  'name': 'galexy',\n",
              "  'price': 200},\n",
              " '11602568': {'Quantity': 10,\n",
              "  'category': 'catbary',\n",
              "  'name': 'nestle',\n",
              "  'price': 400},\n",
              " '11602569': {'Quantity': 30,\n",
              "  'category': 'chocolate',\n",
              "  'name': 'dairy Rich',\n",
              "  'price': 500},\n",
              " '11602570': {'Quantity': 20,\n",
              "  'category': 'catbary',\n",
              "  'name': 'nutties',\n",
              "  'price': 40},\n",
              " '11602571': {'Quantity': 50,\n",
              "  'category': 'chocolate',\n",
              "  'name': 'Amul sugar free chocolate',\n",
              "  'price': 300},\n",
              " '11602572': {'Quantity': 500,\n",
              "  'category': 'chocolate powder',\n",
              "  'name': 'Horlicks',\n",
              "  'price': 150},\n",
              " '11602573': {'Quantity': 550,\n",
              "  'category': 'chocolate powder',\n",
              "  'name': 'Borvita',\n",
              "  'price': 50},\n",
              " '11602574': {'Quantity': 590,\n",
              "  'category': 'choclate',\n",
              "  'name': 'Fuse',\n",
              "  'price': 40},\n",
              " '11602575': {'Quantity': 540,\n",
              "  'category': 'chocolate',\n",
              "  'name': 'Milk bar',\n",
              "  'price': 60},\n",
              " '11602576': {'Quantity': 750,\n",
              "  'category': 'chocolate',\n",
              "  'name': 'Snickers',\n",
              "  'price': 350},\n",
              " '11602577': {'Quantity': 20,\n",
              "  'category': 'catbary',\n",
              "  'name': '5star',\n",
              "  'price': 10},\n",
              " '11602578': {'Quantity': 10,\n",
              "  'category': 'biscit',\n",
              "  'name': 'happy happy',\n",
              "  'price': 10},\n",
              " '11602579': {'Quantity': 5,\n",
              "  'category': 'catbary',\n",
              "  'name': 'Perk',\n",
              "  'price': 30},\n",
              " '11602580': {'Quantity': 57,\n",
              "  'category': 'icecream',\n",
              "  'name': 'Choco Bar',\n",
              "  'price': 100},\n",
              " '11602582': {'Quantity': 530,\n",
              "  'category': 'chocolate power',\n",
              "  'name': 'coco',\n",
              "  'price': 30},\n",
              " '11602583': {'Quantity': 501,\n",
              "  'category': 'catbary',\n",
              "  'name': 'Hide&seek',\n",
              "  'price': 310},\n",
              " '11602584': {'Quantity': 530,\n",
              "  'category': 'cake',\n",
              "  'name': 'mix frute Cake',\n",
              "  'price': 350},\n",
              " '11602585': {'Quantity': 650,\n",
              "  'category': 'cake',\n",
              "  'name': 'chocolate suger free Cake',\n",
              "  'price': 500},\n",
              " '11602586': {'Quantity': 850,\n",
              "  'category': 'cake',\n",
              "  'name': 'chocolate pan Cake',\n",
              "  'price': 300},\n",
              " '11602587': {'Quantity': 580,\n",
              "  'category': 'cake',\n",
              "  'name': 'Hobby Chocolate',\n",
              "  'price': 30},\n",
              " '11602588': {'Quantity': 500,\n",
              "  'category': 'chocolate',\n",
              "  'name': 'Tiger Chocolet',\n",
              "  'price': 5},\n",
              " '11602589': {'Quantity': 950,\n",
              "  'category': 'biscit',\n",
              "  'name': 'parleg',\n",
              "  'price': 10},\n",
              " '11602590': {'Quantity': 750,\n",
              "  'category': 'catbary',\n",
              "  'name': 'Marathon',\n",
              "  'price': 30},\n",
              " '11602591': {'Quantity': 1000,\n",
              "  'category': 'chocolate',\n",
              "  'name': 'Eclears',\n",
              "  'price': 10}}"
            ]
          },
          "metadata": {},
          "execution_count": 50
        }
      ]
    },
    {
      "cell_type": "code",
      "metadata": {
        "id": "5vi6MorwGLkA"
      },
      "source": [
        ""
      ],
      "execution_count": null,
      "outputs": []
    },
    {
      "cell_type": "markdown",
      "metadata": {
        "id": "8z6OQDGAGfDX"
      },
      "source": [
        "PURCHASE"
      ]
    },
    {
      "cell_type": "code",
      "metadata": {
        "colab": {
          "base_uri": "https://localhost:8080/"
        },
        "id": "QJWCWXf3GLoJ",
        "outputId": "05523b0a-0585-4441-a7de-16dc7ddf4daa"
      },
      "source": [
        "ui_prod = str(input(\"Enter the product_Id:\"))\n",
        "ui_Quant = int(input(\"Enter the Quantity\"))\n",
        "print(\"product:\",record[ui_prod]['name'])\n",
        "print(\"price:\",record[ui_prod]['price'])\n",
        "print(\"Billing Amount:\",record[ui_prod]['price']*ui_Quant)\n",
        "record[ui_prod]['Quantity'] =record[ui_prod]['Quantity'] - ui_Quant\n"
      ],
      "execution_count": null,
      "outputs": [
        {
          "output_type": "stream",
          "name": "stdout",
          "text": [
            "Enter the product_Id:11602583\n",
            "Enter the Quantity2\n",
            "product: Hide&seek\n",
            "price: 310\n",
            "Billing Amount: 620\n"
          ]
        }
      ]
    },
    {
      "cell_type": "code",
      "metadata": {
        "id": "LJgXJITBKSSA"
      },
      "source": [
        ""
      ],
      "execution_count": null,
      "outputs": []
    },
    {
      "cell_type": "markdown",
      "metadata": {
        "id": "B674jjxCKX6A"
      },
      "source": [
        "UPDATE INVENTORY AFTER PURCHES"
      ]
    },
    {
      "cell_type": "code",
      "metadata": {
        "id": "4v6wWGBZKSfE"
      },
      "source": [
        "js = json.dumps(record)\n",
        "fd =open(\"record.json\",'w')\n",
        "fd.write(js)\n",
        "fd.close()"
      ],
      "execution_count": null,
      "outputs": []
    },
    {
      "cell_type": "markdown",
      "metadata": {
        "id": "FaLpVTAOLNv6"
      },
      "source": [
        "SALES JSON"
      ]
    },
    {
      "cell_type": "code",
      "metadata": {
        "colab": {
          "base_uri": "https://localhost:8080/"
        },
        "id": "tVwlET-SLSM7",
        "outputId": "aa39882a-e550-457b-c80b-519d9af433d6"
      },
      "source": [
        "{'prod':ui_prod,'Quantity':ui_Quant,'amount':record[ui_prod]['price']*ui_Quant}"
      ],
      "execution_count": null,
      "outputs": [
        {
          "output_type": "execute_result",
          "data": {
            "text/plain": [
              "{'Quantity': 2, 'amount': 620, 'prod': '11602583'}"
            ]
          },
          "metadata": {},
          "execution_count": 56
        }
      ]
    },
    {
      "cell_type": "code",
      "metadata": {
        "id": "wFOx7It3MSG8"
      },
      "source": [
        "sales ={1:{'prod':ui_prod,'Quantity':ui_Quant,'amount':record[ui_prod]['price']*ui_Quant},\n",
        "        2:{'prod':ui_prod,'Quantity':ui_Quant,'amount':record[ui_prod]['price']*ui_Quant},\n",
        "        3:{'prod':ui_prod,'Quantity':ui_Quant,'amount':record[ui_prod]['price']*ui_Quant},}"
      ],
      "execution_count": null,
      "outputs": []
    },
    {
      "cell_type": "code",
      "metadata": {
        "id": "fgIK8hBoN1iu"
      },
      "source": [
        "sale =json.dumps(sales)"
      ],
      "execution_count": null,
      "outputs": []
    }
  ]
}